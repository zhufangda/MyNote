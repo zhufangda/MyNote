{
 "cells": [
  {
   "cell_type": "code",
   "execution_count": 283,
   "metadata": {
    "ExecuteTime": {
     "end_time": "2019-04-29T21:46:26.335931Z",
     "start_time": "2019-04-29T21:46:26.282889Z"
    }
   },
   "outputs": [],
   "source": [
    "import numpy as np\n",
    "from matplotlib import pyplot as plt\n",
    "import matplotlib.pyplot as plt\n",
    "from mpl_toolkits.mplot3d import Axes3D     # 画 3D 图的功能"
   ]
  },
  {
   "cell_type": "code",
   "execution_count": 237,
   "metadata": {
    "ExecuteTime": {
     "end_time": "2019-04-29T21:36:51.334212Z",
     "start_time": "2019-04-29T21:36:51.329177Z"
    }
   },
   "outputs": [],
   "source": [
    "W_real = np.array([1.2, 2.5]).reshape(2,1)"
   ]
  },
  {
   "cell_type": "code",
   "execution_count": 238,
   "metadata": {
    "ExecuteTime": {
     "end_time": "2019-04-29T21:36:51.632174Z",
     "start_time": "2019-04-29T21:36:51.626175Z"
    }
   },
   "outputs": [],
   "source": [
    "n = 200\n",
    "X_train = np.ones((n, 2))\n",
    "X_train[:, 0] = np.linspace(-1, 1, n)\n"
   ]
  },
  {
   "cell_type": "code",
   "execution_count": 239,
   "metadata": {
    "ExecuteTime": {
     "end_time": "2019-04-29T21:36:51.934180Z",
     "start_time": "2019-04-29T21:36:51.931173Z"
    }
   },
   "outputs": [],
   "source": [
    "f = lambda W: X_train.dot(W)"
   ]
  },
  {
   "cell_type": "code",
   "execution_count": 240,
   "metadata": {
    "ExecuteTime": {
     "end_time": "2019-04-29T21:36:52.246218Z",
     "start_time": "2019-04-29T21:36:52.240179Z"
    }
   },
   "outputs": [
    {
     "data": {
      "text/plain": [
       "((200, 1), (200, 1))"
      ]
     },
     "execution_count": 240,
     "metadata": {},
     "output_type": "execute_result"
    }
   ],
   "source": [
    "y_train.shape, y_real.shape"
   ]
  },
  {
   "cell_type": "code",
   "execution_count": 241,
   "metadata": {
    "ExecuteTime": {
     "end_time": "2019-04-29T21:36:52.732176Z",
     "start_time": "2019-04-29T21:36:52.566180Z"
    }
   },
   "outputs": [
    {
     "data": {
      "text/plain": [
       "<matplotlib.collections.PathCollection at 0x1cc6ef4c7b8>"
      ]
     },
     "execution_count": 241,
     "metadata": {},
     "output_type": "execute_result"
    },
    {
     "data": {
      "image/png": "[encoded data removed]",
      "text/plain": [
       "<Figure size 432x288 with 1 Axes>"
      ]
     },
     "metadata": {
      "needs_background": "light"
     },
     "output_type": "display_data"
    }
   ],
   "source": [
    "y_real = f(W_real)\n",
    "y_train = f(W_real) + np.random.rand(n, 1) - 0.5\n",
    "plt.scatter(X_train[:, 0], y_real)\n",
    "plt.scatter(X_train[:, 0], y_train)"
   ]
  },
  {
   "cell_type": "code",
   "execution_count": 390,
   "metadata": {
    "ExecuteTime": {
     "end_time": "2019-04-29T22:12:28.101872Z",
     "start_time": "2019-04-29T22:12:28.098874Z"
    }
   },
   "outputs": [],
   "source": [
    "def loss(W, y_train, f):\n",
    "    return np.mean((f(W) - y_train)**2)"
   ]
  },
  {
   "cell_type": "code",
   "execution_count": 391,
   "metadata": {
    "ExecuteTime": {
     "end_time": "2019-04-29T22:12:30.304879Z",
     "start_time": "2019-04-29T22:12:30.294876Z"
    }
   },
   "outputs": [],
   "source": [
    "def gradient(W, f, loss, epsilon = 1e-5):\n",
    "    \n",
    "    W_plus, W_minus = W.copy(), W.copy()\n",
    "    W_plus[0] = W[0] + epsilon\n",
    "    W_minus[0] = W[0] - epsilon    \n",
    "    dW = (loss(W_plus, y_train, f) - loss(W_minus, y_train, f))/(2*epsilon)\n",
    "    \n",
    "    b_plus, b_minus = W.copy(), W.copy()\n",
    "    b_plus[1] = W[1] + epsilon\n",
    "    b_minus[1] = W[1] - epsilon    \n",
    "    \n",
    "    db = (loss(b_plus, y_train, f) - loss(b_minus, y_train, f))/(2*epsilon)\n",
    "    \n",
    "    return np.hstack((dW, db)).reshape(2,1)"
   ]
  },
  {
   "cell_type": "code",
   "execution_count": 392,
   "metadata": {
    "ExecuteTime": {
     "end_time": "2019-04-29T22:12:32.407883Z",
     "start_time": "2019-04-29T22:12:32.401872Z"
    }
   },
   "outputs": [
    {
     "data": {
      "text/plain": [
       "<function __main__.gradient(W, f, loss, epsilon=1e-05)>"
      ]
     },
     "execution_count": 392,
     "metadata": {},
     "output_type": "execute_result"
    }
   ],
   "source": [
    "gradient"
   ]
  },
  {
   "cell_type": "code",
   "execution_count": 393,
   "metadata": {
    "ExecuteTime": {
     "end_time": "2019-04-29T22:12:34.537874Z",
     "start_time": "2019-04-29T22:12:34.531875Z"
    }
   },
   "outputs": [
    {
     "name": "stdout",
     "output_type": "stream",
     "text": [
      "(2, 1)\n"
     ]
    },
    {
     "data": {
      "text/plain": [
       "array([[ 8216.9175148 ],\n",
       "       [68225.95596313]])"
      ]
     },
     "execution_count": 393,
     "metadata": {},
     "output_type": "execute_result"
    }
   ],
   "source": [
    "n_iter = 10000\n",
    "alpha = 0.9\n",
    "thread = 10e-10\n",
    "print(W.shape)\n",
    "gradient(W, f, loss)"
   ]
  },
  {
   "cell_type": "code",
   "execution_count": 430,
   "metadata": {
    "ExecuteTime": {
     "end_time": "2019-04-29T22:17:59.493435Z",
     "start_time": "2019-04-29T22:17:59.468438Z"
    }
   },
   "outputs": [],
   "source": [
    "W = np.array([[1],[2]])\n",
    "W_rec = [W]\n",
    "loss_rec = [0]\n",
    "dW_rec = []\n",
    "\n",
    "for ele in range(n_iter):\n",
    "    dW = gradient(W, f, loss)\n",
    "    W = W - alpha * dW\n",
    "    loss_rec.append(loss(W, y_train, f))\n",
    "    recoder.append(W)\n",
    "    dW_rec.append(dW)\n",
    "    \n",
    "    diff = np.abs(loss_rec[-2] -  loss_rec[-1])\n",
    "\n",
    "    if diff < thread:\n",
    "        break\n",
    "    \n",
    "W_rec = np.hstack(W_rec).T\n",
    "dW_rec = np.hstack(dW_rec).T"
   ]
  },
  {
   "cell_type": "code",
   "execution_count": 431,
   "metadata": {
    "ExecuteTime": {
     "end_time": "2019-04-29T22:18:00.154473Z",
     "start_time": "2019-04-29T22:18:00.045465Z"
    }
   },
   "outputs": [
    {
     "data": {
      "text/plain": [
       "[array([[1],\n",
       "        [2]]), array([[19391.80849756],\n",
       "        [91567.87174397]]), array([[  7640.47144617],\n",
       "        [-73249.79526348]]), array([[ 3010.80702509],\n",
       "        [58604.42417317]]), array([[  1186.84052195],\n",
       "        [-46879.04578991]]), array([[  468.26599802],\n",
       "        [37507.7988451 ]]), array([[   185.17492975],\n",
       "        [-30001.74981899]]), array([[   73.64331449],\n",
       "        [24005.93953781]]), array([[    29.70873083],\n",
       "        [-19200.2205307 ]]), array([[1.23977538e+01],\n",
       "        [1.53647070e+04]]), array([[ 5.57689632e+00],\n",
       "        [-1.22872345e+04]]), array([[2.88798179e+00],\n",
       "        [9.83431789e+03]]), array([[ 1.82917978e+00],\n",
       "        [-7.86292267e+03]]), array([[1.41109045e+00],\n",
       "        [6.29486917e+03]]), array([[ 1.24680514e+00],\n",
       "        [-5.03136390e+03]]), array([[1.18226449e+00],\n",
       "        [4.02962212e+03]]), array([[ 1.15661587e+00],\n",
       "        [-3.21916651e+03]]), array([[1.14647376e+00],\n",
       "        [2.57986460e+03]]), array([[ 1.14249236e+00],\n",
       "        [-2.05936048e+03]]), array([[1.14094171e+00],\n",
       "        [1.65201981e+03]]), array([[ 1.14031307e+00],\n",
       "        [-1.31708451e+03]]), array([[   1.14008256],\n",
       "        [1058.1989213 ]]), array([[   1.13999874],\n",
       "        [-842.02782375]]), array([[  1.1399516 ],\n",
       "        [678.15356705]]), array([[   1.1399385 ],\n",
       "        [-537.99153197]]), array([[  1.13993326],\n",
       "        [434.92454096]]), array([[   1.13993195],\n",
       "        [-343.40831241]]), array([[  1.13992999],\n",
       "        [279.2579661 ]]), array([[   1.13992933],\n",
       "        [-218.87505369]]), array([[  1.13992933],\n",
       "        [179.63136076]]), array([[   1.139929  ],\n",
       "        [-139.17377123]]), array([[  1.139929 ],\n",
       "        [115.8703345]]), array([[  1.13992892],\n",
       "        [-88.16495018]]), array([[ 1.13992884],\n",
       "        [75.06327776]]), array([[  1.1399288],\n",
       "        [-55.5193048]]), array([[ 1.13992882],\n",
       "        [48.94676132]]), array([[  1.13992882],\n",
       "        [-34.62609165]]), array([[ 1.13992883],\n",
       "        [32.23219077]]), array([[  1.13992885],\n",
       "        [-21.2544352 ]]), array([[ 1.13992884],\n",
       "        [21.53486559]]), array([[  1.13992883],\n",
       "        [-12.69657503]]), array([[ 1.13992883],\n",
       "        [14.68857746]]), array([[ 1.13992883],\n",
       "        [-7.21954453]]), array([[ 1.13992884],\n",
       "        [10.30695306]]), array([[ 1.13992884],\n",
       "        [-3.71424501]]), array([[1.13992884],\n",
       "        [7.50271344]]), array([[ 1.13992884],\n",
       "        [-1.47085332]]), array([[1.13992884],\n",
       "        [5.70800009]]), array([[ 1.13992884],\n",
       "        [-0.03508264]]), array([[1.13992884],\n",
       "        [4.55938355]]), array([[1.13992884],\n",
       "        [0.8838106 ]]), array([[1.13992884],\n",
       "        [3.82426896]]), array([[1.13992884],\n",
       "        [1.47190227]]), array([[1.13992884],\n",
       "        [3.35379562]]), array([[1.13992884],\n",
       "        [1.84828094]]), array([[1.13992884],\n",
       "        [3.05269268]]), array([[1.13992884],\n",
       "        [2.08916329]]), array([[1.13992884],\n",
       "        [2.8599868 ]]), array([[1.13992884],\n",
       "        [2.24332799]]), array([[1.13992884],\n",
       "        [2.73665504]]), array([[1.13992884],\n",
       "        [2.3419934 ]]), array([[1.13992884],\n",
       "        [2.65772271]]), array([[1.13992884],\n",
       "        [2.40513926]]), array([[1.13992884],\n",
       "        [2.60720602]]), array([[1.13992884],\n",
       "        [2.44555262]]), array([[1.13992884],\n",
       "        [2.57487534]]), array([[1.13992884],\n",
       "        [2.47141716]]), array([[1.13992884],\n",
       "        [2.55418371]]), array([[1.13992884],\n",
       "        [2.48797047]]), array([[1.13992884],\n",
       "        [2.54094106]]), array([[1.13992884],\n",
       "        [2.49856459]]), array([[1.13992884],\n",
       "        [2.53246576]]), array([[1.13992884],\n",
       "        [2.50534482]]), array([[1.13992884],\n",
       "        [2.52704158]]), array([[1.13992884],\n",
       "        [2.50968417]]), array([[1.13992884],\n",
       "        [2.5235701 ]]), array([[1.13992884],\n",
       "        [2.51246136]]), array([[1.13992884],\n",
       "        [2.52134835]]), array([[1.13992884],\n",
       "        [2.51423876]]), array([[1.13992884],\n",
       "        [2.51992643]]), array([[1.13992884],\n",
       "        [2.51537629]]), array([[1.13992884],\n",
       "        [2.5190164 ]]), array([[1.13992884],\n",
       "        [2.51610431]]), array([[1.13992884],\n",
       "        [2.51843398]]), array([[1.13992884],\n",
       "        [2.51657025]]), array([[1.13992884],\n",
       "        [2.51806124]]), array([[1.13992884],\n",
       "        [2.51686845]]), array([[1.13992884],\n",
       "        [2.51782268]]), array([[1.13992884],\n",
       "        [2.51705929]]), array([[1.13992884],\n",
       "        [2.51767   ]]), array([[1.13992884],\n",
       "        [2.51718143]]), array([[1.13992884],\n",
       "        [2.51757229]]), array([[1.13992884],\n",
       "        [2.5172596 ]]), array([[1.13992884],\n",
       "        [2.51750975]]), array([[1.13992884],\n",
       "        [2.51730963]]), array([[1.13992884],\n",
       "        [2.51746973]]), array([[1.13992884],\n",
       "        [2.51734165]]), array([[1.13992884],\n",
       "        [2.51744411]]), array([[1.13992884],\n",
       "        [2.51736214]]), array([[19391.80849756],\n",
       "        [91567.87174397]]), array([[  7640.47144617],\n",
       "        [-73249.79526348]]), array([[ 3010.80702509],\n",
       "        [58604.42417317]]), array([[  1186.84052195],\n",
       "        [-46879.04578991]]), array([[  468.26599802],\n",
       "        [37507.7988451 ]]), array([[   185.17492975],\n",
       "        [-30001.74981899]]), array([[   73.64331449],\n",
       "        [24005.93953781]]), array([[    29.70873083],\n",
       "        [-19200.2205307 ]]), array([[1.23977538e+01],\n",
       "        [1.53647070e+04]]), array([[ 5.57689632e+00],\n",
       "        [-1.22872345e+04]]), array([[2.88798179e+00],\n",
       "        [9.83431789e+03]]), array([[ 1.82917978e+00],\n",
       "        [-7.86292267e+03]]), array([[1.41109045e+00],\n",
       "        [6.29486917e+03]]), array([[ 1.24680514e+00],\n",
       "        [-5.03136390e+03]]), array([[1.18226449e+00],\n",
       "        [4.02962212e+03]]), array([[ 1.15661587e+00],\n",
       "        [-3.21916651e+03]]), array([[1.14647376e+00],\n",
       "        [2.57986460e+03]]), array([[ 1.14249236e+00],\n",
       "        [-2.05936048e+03]]), array([[1.14094171e+00],\n",
       "        [1.65201981e+03]]), array([[ 1.14031307e+00],\n",
       "        [-1.31708451e+03]]), array([[   1.14008256],\n",
       "        [1058.1989213 ]]), array([[   1.13999874],\n",
       "        [-842.02782375]]), array([[  1.1399516 ],\n",
       "        [678.15356705]]), array([[   1.1399385 ],\n",
       "        [-537.99153197]]), array([[  1.13993326],\n",
       "        [434.92454096]]), array([[   1.13993195],\n",
       "        [-343.40831241]]), array([[  1.13992999],\n",
       "        [279.2579661 ]]), array([[   1.13992933],\n",
       "        [-218.87505369]]), array([[  1.13992933],\n",
       "        [179.63136076]]), array([[   1.139929  ],\n",
       "        [-139.17377123]]), array([[  1.139929 ],\n",
       "        [115.8703345]]), array([[  1.13992892],\n",
       "        [-88.16495018]]), array([[ 1.13992884],\n",
       "        [75.06327776]]), array([[  1.1399288],\n",
       "        [-55.5193048]]), array([[ 1.13992882],\n",
       "        [48.94676132]]), array([[  1.13992882],\n",
       "        [-34.62609165]]), array([[ 1.13992883],\n",
       "        [32.23219077]]), array([[  1.13992885],\n",
       "        [-21.2544352 ]]), array([[ 1.13992884],\n",
       "        [21.53486559]]), array([[  1.13992883],\n",
       "        [-12.69657503]]), array([[ 1.13992883],\n",
       "        [14.68857746]]), array([[ 1.13992883],\n",
       "        [-7.21954453]]), array([[ 1.13992884],\n",
       "        [10.30695306]]), array([[ 1.13992884],\n",
       "        [-3.71424501]]), array([[1.13992884],\n",
       "        [7.50271344]]), array([[ 1.13992884],\n",
       "        [-1.47085332]]), array([[1.13992884],\n",
       "        [5.70800009]]), array([[ 1.13992884],\n",
       "        [-0.03508264]]), array([[1.13992884],\n",
       "        [4.55938355]]), array([[1.13992884],\n",
       "        [0.8838106 ]]), array([[1.13992884],\n",
       "        [3.82426896]]), array([[1.13992884],\n",
       "        [1.47190227]]), array([[1.13992884],\n",
       "        [3.35379562]]), array([[1.13992884],\n",
       "        [1.84828094]]), array([[1.13992884],\n",
       "        [3.05269268]]), array([[1.13992884],\n",
       "        [2.08916329]]), array([[1.13992884],\n",
       "        [2.8599868 ]]), array([[1.13992884],\n",
       "        [2.24332799]]), array([[1.13992884],\n",
       "        [2.73665504]]), array([[1.13992884],\n",
       "        [2.3419934 ]]), array([[1.13992884],\n",
       "        [2.65772271]]), array([[1.13992884],\n",
       "        [2.40513926]]), array([[1.13992884],\n",
       "        [2.60720602]]), array([[1.13992884],\n",
       "        [2.44555262]]), array([[1.13992884],\n",
       "        [2.57487534]]), array([[1.13992884],\n",
       "        [2.47141716]]), array([[1.13992884],\n",
       "        [2.55418371]]), array([[1.13992884],\n",
       "        [2.48797047]]), array([[1.13992884],\n",
       "        [2.54094106]]), array([[1.13992884],\n",
       "        [2.49856459]]), array([[1.13992884],\n",
       "        [2.53246576]]), array([[1.13992884],\n",
       "        [2.50534482]]), array([[1.13992884],\n",
       "        [2.52704158]]), array([[1.13992884],\n",
       "        [2.50968417]]), array([[1.13992884],\n",
       "        [2.5235701 ]]), array([[1.13992884],\n",
       "        [2.51246136]]), array([[1.13992884],\n",
       "        [2.52134835]]), array([[1.13992884],\n",
       "        [2.51423876]]), array([[1.13992884],\n",
       "        [2.51992643]]), array([[1.13992884],\n",
       "        [2.51537629]]), array([[1.13992884],\n",
       "        [2.5190164 ]]), array([[1.13992884],\n",
       "        [2.51610431]]), array([[1.13992884],\n",
       "        [2.51843398]]), array([[1.13992884],\n",
       "        [2.51657025]]), array([[1.13992884],\n",
       "        [2.51806124]]), array([[1.13992884],\n",
       "        [2.51686845]]), array([[1.13992884],\n",
       "        [2.51782268]]), array([[1.13992884],\n",
       "        [2.51705929]]), array([[1.13992884],\n",
       "        [2.51767   ]]), array([[1.13992884],\n",
       "        [2.51718143]]), array([[1.13992884],\n",
       "        [2.51757229]]), array([[1.13992884],\n",
       "        [2.5172596 ]]), array([[1.13992884],\n",
       "        [2.51750975]]), array([[1.13992884],\n",
       "        [2.51730963]]), array([[1.13992884],\n",
       "        [2.51746973]]), array([[1.13992884],\n",
       "        [2.51734165]]), array([[1.13992884],\n",
       "        [2.51744411]]), array([[1.13992884],\n",
       "        [2.51736214]]), array([[19391.80849756],\n",
       "        [91567.87174397]]), array([[  7640.47144617],\n",
       "        [-73249.79526348]]), array([[ 3010.80702509],\n",
       "        [58604.42417317]]), array([[  1186.84052195],\n",
       "        [-46879.04578991]]), array([[  468.26599802],\n",
       "        [37507.7988451 ]]), array([[   185.17492975],\n",
       "        [-30001.74981899]]), array([[   73.64331449],\n",
       "        [24005.93953781]]), array([[    29.70873083],\n",
       "        [-19200.2205307 ]]), array([[1.23977538e+01],\n",
       "        [1.53647070e+04]]), array([[ 5.57689632e+00],\n",
       "        [-1.22872345e+04]]), array([[2.88798179e+00],\n",
       "        [9.83431789e+03]]), array([[ 1.82917978e+00],\n",
       "        [-7.86292267e+03]]), array([[1.41109045e+00],\n",
       "        [6.29486917e+03]]), array([[ 1.24680514e+00],\n",
       "        [-5.03136390e+03]]), array([[1.18226449e+00],\n",
       "        [4.02962212e+03]]), array([[ 1.15661587e+00],\n",
       "        [-3.21916651e+03]]), array([[1.14647376e+00],\n",
       "        [2.57986460e+03]]), array([[ 1.14249236e+00],\n",
       "        [-2.05936048e+03]]), array([[1.14094171e+00],\n",
       "        [1.65201981e+03]]), array([[ 1.14031307e+00],\n",
       "        [-1.31708451e+03]]), array([[   1.14008256],\n",
       "        [1058.1989213 ]]), array([[   1.13999874],\n",
       "        [-842.02782375]]), array([[  1.1399516 ],\n",
       "        [678.15356705]]), array([[   1.1399385 ],\n",
       "        [-537.99153197]]), array([[  1.13993326],\n",
       "        [434.92454096]]), array([[   1.13993195],\n",
       "        [-343.40831241]]), array([[  1.13992999],\n",
       "        [279.2579661 ]]), array([[   1.13992933],\n",
       "        [-218.87505369]]), array([[  1.13992933],\n",
       "        [179.63136076]]), array([[   1.139929  ],\n",
       "        [-139.17377123]]), array([[  1.139929 ],\n",
       "        [115.8703345]]), array([[  1.13992892],\n",
       "        [-88.16495018]]), array([[ 1.13992884],\n",
       "        [75.06327776]]), array([[  1.1399288],\n",
       "        [-55.5193048]]), array([[ 1.13992882],\n",
       "        [48.94676132]]), array([[  1.13992882],\n",
       "        [-34.62609165]]), array([[ 1.13992883],\n",
       "        [32.23219077]]), array([[  1.13992885],\n",
       "        [-21.2544352 ]]), array([[ 1.13992884],\n",
       "        [21.53486559]]), array([[  1.13992883],\n",
       "        [-12.69657503]]), array([[ 1.13992883],\n",
       "        [14.68857746]]), array([[ 1.13992883],\n",
       "        [-7.21954453]]), array([[ 1.13992884],\n",
       "        [10.30695306]]), array([[ 1.13992884],\n",
       "        [-3.71424501]]), array([[1.13992884],\n",
       "        [7.50271344]]), array([[ 1.13992884],\n",
       "        [-1.47085332]]), array([[1.13992884],\n",
       "        [5.70800009]]), array([[ 1.13992884],\n",
       "        [-0.03508264]]), array([[1.13992884],\n",
       "        [4.55938355]]), array([[1.13992884],\n",
       "        [0.8838106 ]]), array([[1.13992884],\n",
       "        [3.82426896]]), array([[1.13992884],\n",
       "        [1.47190227]]), array([[1.13992884],\n",
       "        [3.35379562]]), array([[1.13992884],\n",
       "        [1.84828094]]), array([[1.13992884],\n",
       "        [3.05269268]]), array([[1.13992884],\n",
       "        [2.08916329]]), array([[1.13992884],\n",
       "        [2.8599868 ]]), array([[1.13992884],\n",
       "        [2.24332799]]), array([[1.13992884],\n",
       "        [2.73665504]]), array([[1.13992884],\n",
       "        [2.3419934 ]]), array([[1.13992884],\n",
       "        [2.65772271]]), array([[1.13992884],\n",
       "        [2.40513926]]), array([[1.13992884],\n",
       "        [2.60720602]]), array([[1.13992884],\n",
       "        [2.44555262]]), array([[1.13992884],\n",
       "        [2.57487534]]), array([[1.13992884],\n",
       "        [2.47141716]]), array([[1.13992884],\n",
       "        [2.55418371]]), array([[1.13992884],\n",
       "        [2.48797047]]), array([[1.13992884],\n",
       "        [2.54094106]]), array([[1.13992884],\n",
       "        [2.49856459]]), array([[1.13992884],\n",
       "        [2.53246576]]), array([[1.13992884],\n",
       "        [2.50534482]]), array([[1.13992884],\n",
       "        [2.52704158]]), array([[1.13992884],\n",
       "        [2.50968417]]), array([[1.13992884],\n",
       "        [2.5235701 ]]), array([[1.13992884],\n",
       "        [2.51246136]]), array([[1.13992884],\n",
       "        [2.52134835]]), array([[1.13992884],\n",
       "        [2.51423876]]), array([[1.13992884],\n",
       "        [2.51992643]]), array([[1.13992884],\n",
       "        [2.51537629]]), array([[1.13992884],\n",
       "        [2.5190164 ]]), array([[1.13992884],\n",
       "        [2.51610431]]), array([[1.13992884],\n",
       "        [2.51843398]]), array([[1.13992884],\n",
       "        [2.51657025]]), array([[1.13992884],\n",
       "        [2.51806124]]), array([[1.13992884],\n",
       "        [2.51686845]]), array([[1.13992884],\n",
       "        [2.51782268]]), array([[1.13992884],\n",
       "        [2.51705929]]), array([[1.13992884],\n",
       "        [2.51767   ]]), array([[1.13992884],\n",
       "        [2.51718143]]), array([[1.13992884],\n",
       "        [2.51757229]]), array([[1.13992884],\n",
       "        [2.5172596 ]]), array([[1.13992884],\n",
       "        [2.51750975]]), array([[1.13992884],\n",
       "        [2.51730963]]), array([[1.13992884],\n",
       "        [2.51746973]]), array([[1.13992884],\n",
       "        [2.51734165]]), array([[1.13992884],\n",
       "        [2.51744411]]), array([[1.13992884],\n",
       "        [2.51736214]]), array([[19391.80849756],\n",
       "        [91567.87174397]]), array([[  7640.47144617],\n",
       "        [-73249.79526348]]), array([[ 3010.80702509],\n",
       "        [58604.42417317]]), array([[  1186.84052195],\n",
       "        [-46879.04578991]]), array([[  468.26599802],\n",
       "        [37507.7988451 ]]), array([[   185.17492975],\n",
       "        [-30001.74981899]]), array([[   73.64331449],\n",
       "        [24005.93953781]]), array([[    29.70873083],\n",
       "        [-19200.2205307 ]]), array([[1.23977538e+01],\n",
       "        [1.53647070e+04]]), array([[ 5.57689632e+00],\n",
       "        [-1.22872345e+04]]), array([[2.88798179e+00],\n",
       "        [9.83431789e+03]]), array([[ 1.82917978e+00],\n",
       "        [-7.86292267e+03]]), array([[1.41109045e+00],\n",
       "        [6.29486917e+03]]), array([[ 1.24680514e+00],\n",
       "        [-5.03136390e+03]]), array([[1.18226449e+00],\n",
       "        [4.02962212e+03]]), array([[ 1.15661587e+00],\n",
       "        [-3.21916651e+03]]), array([[1.14647376e+00],\n",
       "        [2.57986460e+03]]), array([[ 1.14249236e+00],\n",
       "        [-2.05936048e+03]]), array([[1.14094171e+00],\n",
       "        [1.65201981e+03]]), array([[ 1.14031307e+00],\n",
       "        [-1.31708451e+03]]), array([[   1.14008256],\n",
       "        [1058.1989213 ]]), array([[   1.13999874],\n",
       "        [-842.02782375]]), array([[  1.1399516 ],\n",
       "        [678.15356705]]), array([[   1.1399385 ],\n",
       "        [-537.99153197]]), array([[  1.13993326],\n",
       "        [434.92454096]]), array([[   1.13993195],\n",
       "        [-343.40831241]]), array([[  1.13992999],\n",
       "        [279.2579661 ]]), array([[   1.13992933],\n",
       "        [-218.87505369]]), array([[  1.13992933],\n",
       "        [179.63136076]]), array([[   1.139929  ],\n",
       "        [-139.17377123]]), array([[  1.139929 ],\n",
       "        [115.8703345]]), array([[  1.13992892],\n",
       "        [-88.16495018]]), array([[ 1.13992884],\n",
       "        [75.06327776]]), array([[  1.1399288],\n",
       "        [-55.5193048]]), array([[ 1.13992882],\n",
       "        [48.94676132]]), array([[  1.13992882],\n",
       "        [-34.62609165]]), array([[ 1.13992883],\n",
       "        [32.23219077]]), array([[  1.13992885],\n",
       "        [-21.2544352 ]]), array([[ 1.13992884],\n",
       "        [21.53486559]]), array([[  1.13992883],\n",
       "        [-12.69657503]]), array([[ 1.13992883],\n",
       "        [14.68857746]]), array([[ 1.13992883],\n",
       "        [-7.21954453]]), array([[ 1.13992884],\n",
       "        [10.30695306]]), array([[ 1.13992884],\n",
       "        [-3.71424501]]), array([[1.13992884],\n",
       "        [7.50271344]]), array([[ 1.13992884],\n",
       "        [-1.47085332]]), array([[1.13992884],\n",
       "        [5.70800009]]), array([[ 1.13992884],\n",
       "        [-0.03508264]]), array([[1.13992884],\n",
       "        [4.55938355]]), array([[1.13992884],\n",
       "        [0.8838106 ]]), array([[1.13992884],\n",
       "        [3.82426896]]), array([[1.13992884],\n",
       "        [1.47190227]]), array([[1.13992884],\n",
       "        [3.35379562]]), array([[1.13992884],\n",
       "        [1.84828094]]), array([[1.13992884],\n",
       "        [3.05269268]]), array([[1.13992884],\n",
       "        [2.08916329]]), array([[1.13992884],\n",
       "        [2.8599868 ]]), array([[1.13992884],\n",
       "        [2.24332799]]), array([[1.13992884],\n",
       "        [2.73665504]]), array([[1.13992884],\n",
       "        [2.3419934 ]]), array([[1.13992884],\n",
       "        [2.65772271]]), array([[1.13992884],\n",
       "        [2.40513926]]), array([[1.13992884],\n",
       "        [2.60720602]]), array([[1.13992884],\n",
       "        [2.44555262]]), array([[1.13992884],\n",
       "        [2.57487534]]), array([[1.13992884],\n",
       "        [2.47141716]]), array([[1.13992884],\n",
       "        [2.55418371]]), array([[1.13992884],\n",
       "        [2.48797047]]), array([[1.13992884],\n",
       "        [2.54094106]]), array([[1.13992884],\n",
       "        [2.49856459]]), array([[1.13992884],\n",
       "        [2.53246576]]), array([[1.13992884],\n",
       "        [2.50534482]]), array([[1.13992884],\n",
       "        [2.52704158]]), array([[1.13992884],\n",
       "        [2.50968417]]), array([[1.13992884],\n",
       "        [2.5235701 ]]), array([[1.13992884],\n",
       "        [2.51246136]]), array([[1.13992884],\n",
       "        [2.52134835]]), array([[1.13992884],\n",
       "        [2.51423876]]), array([[1.13992884],\n",
       "        [2.51992643]]), array([[1.13992884],\n",
       "        [2.51537629]]), array([[1.13992884],\n",
       "        [2.5190164 ]]), array([[1.13992884],\n",
       "        [2.51610431]]), array([[1.13992884],\n",
       "        [2.51843398]]), array([[1.13992884],\n",
       "        [2.51657025]]), array([[1.13992884],\n",
       "        [2.51806124]]), array([[1.13992884],\n",
       "        [2.51686845]]), array([[1.13992884],\n",
       "        [2.51782268]]), array([[1.13992884],\n",
       "        [2.51705929]]), array([[1.13992884],\n",
       "        [2.51767   ]]), array([[1.13992884],\n",
       "        [2.51718143]]), array([[1.13992884],\n",
       "        [2.51757229]]), array([[1.13992884],\n",
       "        [2.5172596 ]]), array([[1.13992884],\n",
       "        [2.51750975]]), array([[1.13992884],\n",
       "        [2.51730963]]), array([[1.13992884],\n",
       "        [2.51746973]]), array([[1.13992884],\n",
       "        [2.51734165]]), array([[1.13992884],\n",
       "        [2.51744411]]), array([[1.13992884],\n",
       "        [2.51736214]]), array([[19391.80849756],\n",
       "        [91567.87174397]]), array([[  7640.47144617],\n",
       "        [-73249.79526348]]), array([[ 3010.80702509],\n",
       "        [58604.42417317]]), array([[  1186.84052195],\n",
       "        [-46879.04578991]]), array([[  468.26599802],\n",
       "        [37507.7988451 ]]), array([[   185.17492975],\n",
       "        [-30001.74981899]]), array([[   73.64331449],\n",
       "        [24005.93953781]]), array([[    29.70873083],\n",
       "        [-19200.2205307 ]]), array([[1.23977538e+01],\n",
       "        [1.53647070e+04]]), array([[ 5.57689632e+00],\n",
       "        [-1.22872345e+04]]), array([[2.88798179e+00],\n",
       "        [9.83431789e+03]]), array([[ 1.82917978e+00],\n",
       "        [-7.86292267e+03]]), array([[1.41109045e+00],\n",
       "        [6.29486917e+03]]), array([[ 1.24680514e+00],\n",
       "        [-5.03136390e+03]]), array([[1.18226449e+00],\n",
       "        [4.02962212e+03]]), array([[ 1.15661587e+00],\n",
       "        [-3.21916651e+03]]), array([[1.14647376e+00],\n",
       "        [2.57986460e+03]]), array([[ 1.14249236e+00],\n",
       "        [-2.05936048e+03]]), array([[1.14094171e+00],\n",
       "        [1.65201981e+03]]), array([[ 1.14031307e+00],\n",
       "        [-1.31708451e+03]]), array([[   1.14008256],\n",
       "        [1058.1989213 ]]), array([[   1.13999874],\n",
       "        [-842.02782375]]), array([[  1.1399516 ],\n",
       "        [678.15356705]]), array([[   1.1399385 ],\n",
       "        [-537.99153197]]), array([[  1.13993326],\n",
       "        [434.92454096]]), array([[   1.13993195],\n",
       "        [-343.40831241]]), array([[  1.13992999],\n",
       "        [279.2579661 ]]), array([[   1.13992933],\n",
       "        [-218.87505369]]), array([[  1.13992933],\n",
       "        [179.63136076]]), array([[   1.139929  ],\n",
       "        [-139.17377123]]), array([[  1.139929 ],\n",
       "        [115.8703345]]), array([[  1.13992892],\n",
       "        [-88.16495018]]), array([[ 1.13992884],\n",
       "        [75.06327776]]), array([[  1.1399288],\n",
       "        [-55.5193048]]), array([[ 1.13992882],\n",
       "        [48.94676132]]), array([[  1.13992882],\n",
       "        [-34.62609165]]), array([[ 1.13992883],\n",
       "        [32.23219077]]), array([[  1.13992885],\n",
       "        [-21.2544352 ]]), array([[ 1.13992884],\n",
       "        [21.53486559]]), array([[  1.13992883],\n",
       "        [-12.69657503]]), array([[ 1.13992883],\n",
       "        [14.68857746]]), array([[ 1.13992883],\n",
       "        [-7.21954453]]), array([[ 1.13992884],\n",
       "        [10.30695306]]), array([[ 1.13992884],\n",
       "        [-3.71424501]]), array([[1.13992884],\n",
       "        [7.50271344]]), array([[ 1.13992884],\n",
       "        [-1.47085332]]), array([[1.13992884],\n",
       "        [5.70800009]]), array([[ 1.13992884],\n",
       "        [-0.03508264]]), array([[1.13992884],\n",
       "        [4.55938355]]), array([[1.13992884],\n",
       "        [0.8838106 ]]), array([[1.13992884],\n",
       "        [3.82426896]]), array([[1.13992884],\n",
       "        [1.47190227]]), array([[1.13992884],\n",
       "        [3.35379562]]), array([[1.13992884],\n",
       "        [1.84828094]]), array([[1.13992884],\n",
       "        [3.05269268]]), array([[1.13992884],\n",
       "        [2.08916329]]), array([[1.13992884],\n",
       "        [2.8599868 ]]), array([[1.13992884],\n",
       "        [2.24332799]]), array([[1.13992884],\n",
       "        [2.73665504]]), array([[1.13992884],\n",
       "        [2.3419934 ]]), array([[1.13992884],\n",
       "        [2.65772271]]), array([[1.13992884],\n",
       "        [2.40513926]]), array([[1.13992884],\n",
       "        [2.60720602]]), array([[1.13992884],\n",
       "        [2.44555262]]), array([[1.13992884],\n",
       "        [2.57487534]]), array([[1.13992884],\n",
       "        [2.47141716]]), array([[1.13992884],\n",
       "        [2.55418371]]), array([[1.13992884],\n",
       "        [2.48797047]]), array([[1.13992884],\n",
       "        [2.54094106]]), array([[1.13992884],\n",
       "        [2.49856459]]), array([[1.13992884],\n",
       "        [2.53246576]]), array([[1.13992884],\n",
       "        [2.50534482]]), array([[1.13992884],\n",
       "        [2.52704158]]), array([[1.13992884],\n",
       "        [2.50968417]]), array([[1.13992884],\n",
       "        [2.5235701 ]]), array([[1.13992884],\n",
       "        [2.51246136]]), array([[1.13992884],\n",
       "        [2.52134835]]), array([[1.13992884],\n",
       "        [2.51423876]]), array([[1.13992884],\n",
       "        [2.51992643]]), array([[1.13992884],\n",
       "        [2.51537629]]), array([[1.13992884],\n",
       "        [2.5190164 ]]), array([[1.13992884],\n",
       "        [2.51610431]]), array([[1.13992884],\n",
       "        [2.51843398]]), array([[1.13992884],\n",
       "        [2.51657025]]), array([[1.13992884],\n",
       "        [2.51806124]]), array([[1.13992884],\n",
       "        [2.51686845]]), array([[1.13992884],\n",
       "        [2.51782268]]), array([[1.13992884],\n",
       "        [2.51705929]]), array([[1.13992884],\n",
       "        [2.51767   ]]), array([[1.13992884],\n",
       "        [2.51718143]]), array([[1.13992884],\n",
       "        [2.51757229]]), array([[1.13992884],\n",
       "        [2.5172596 ]]), array([[1.13992884],\n",
       "        [2.51750975]]), array([[1.13992884],\n",
       "        [2.51730963]]), array([[1.13992884],\n",
       "        [2.51746973]]), array([[1.13992884],\n",
       "        [2.51734165]]), array([[1.13992884],\n",
       "        [2.51744411]]), array([[1.13992884],\n",
       "        [2.51736214]]), array([[19391.80849756],\n",
       "        [91567.87174397]]), array([[  7640.47144617],\n",
       "        [-73249.79526348]]), array([[ 3010.80702509],\n",
       "        [58604.42417317]]), array([[  1186.84052195],\n",
       "        [-46879.04578991]]), array([[  468.26599802],\n",
       "        [37507.7988451 ]]), array([[   185.17492975],\n",
       "        [-30001.74981899]]), array([[   73.64331449],\n",
       "        [24005.93953781]]), array([[    29.70873083],\n",
       "        [-19200.2205307 ]]), array([[1.23977538e+01],\n",
       "        [1.53647070e+04]]), array([[ 5.57689632e+00],\n",
       "        [-1.22872345e+04]]), array([[2.88798179e+00],\n",
       "        [9.83431789e+03]]), array([[ 1.82917978e+00],\n",
       "        [-7.86292267e+03]]), array([[1.41109045e+00],\n",
       "        [6.29486917e+03]]), array([[ 1.24680514e+00],\n",
       "        [-5.03136390e+03]]), array([[1.18226449e+00],\n",
       "        [4.02962212e+03]]), array([[ 1.15661587e+00],\n",
       "        [-3.21916651e+03]]), array([[1.14647376e+00],\n",
       "        [2.57986460e+03]]), array([[ 1.14249236e+00],\n",
       "        [-2.05936048e+03]]), array([[1.14094171e+00],\n",
       "        [1.65201981e+03]]), array([[ 1.14031307e+00],\n",
       "        [-1.31708451e+03]]), array([[   1.14008256],\n",
       "        [1058.1989213 ]]), array([[   1.13999874],\n",
       "        [-842.02782375]]), array([[  1.1399516 ],\n",
       "        [678.15356705]]), array([[   1.1399385 ],\n",
       "        [-537.99153197]]), array([[  1.13993326],\n",
       "        [434.92454096]]), array([[   1.13993195],\n",
       "        [-343.40831241]]), array([[  1.13992999],\n",
       "        [279.2579661 ]]), array([[   1.13992933],\n",
       "        [-218.87505369]]), array([[  1.13992933],\n",
       "        [179.63136076]]), array([[   1.139929  ],\n",
       "        [-139.17377123]]), array([[  1.139929 ],\n",
       "        [115.8703345]]), array([[  1.13992892],\n",
       "        [-88.16495018]]), array([[ 1.13992884],\n",
       "        [75.06327776]]), array([[  1.1399288],\n",
       "        [-55.5193048]]), array([[ 1.13992882],\n",
       "        [48.94676132]]), array([[  1.13992882],\n",
       "        [-34.62609165]]), array([[ 1.13992883],\n",
       "        [32.23219077]]), array([[  1.13992885],\n",
       "        [-21.2544352 ]]), array([[ 1.13992884],\n",
       "        [21.53486559]]), array([[  1.13992883],\n",
       "        [-12.69657503]]), array([[ 1.13992883],\n",
       "        [14.68857746]]), array([[ 1.13992883],\n",
       "        [-7.21954453]]), array([[ 1.13992884],\n",
       "        [10.30695306]]), array([[ 1.13992884],\n",
       "        [-3.71424501]]), array([[1.13992884],\n",
       "        [7.50271344]]), array([[ 1.13992884],\n",
       "        [-1.47085332]]), array([[1.13992884],\n",
       "        [5.70800009]]), array([[ 1.13992884],\n",
       "        [-0.03508264]]), array([[1.13992884],\n",
       "        [4.55938355]]), array([[1.13992884],\n",
       "        [0.8838106 ]]), array([[1.13992884],\n",
       "        [3.82426896]]), array([[1.13992884],\n",
       "        [1.47190227]]), array([[1.13992884],\n",
       "        [3.35379562]]), array([[1.13992884],\n",
       "        [1.84828094]]), array([[1.13992884],\n",
       "        [3.05269268]]), array([[1.13992884],\n",
       "        [2.08916329]]), array([[1.13992884],\n",
       "        [2.8599868 ]]), array([[1.13992884],\n",
       "        [2.24332799]]), array([[1.13992884],\n",
       "        [2.73665504]]), array([[1.13992884],\n",
       "        [2.3419934 ]]), array([[1.13992884],\n",
       "        [2.65772271]]), array([[1.13992884],\n",
       "        [2.40513926]]), array([[1.13992884],\n",
       "        [2.60720602]]), array([[1.13992884],\n",
       "        [2.44555262]]), array([[1.13992884],\n",
       "        [2.57487534]]), array([[1.13992884],\n",
       "        [2.47141716]]), array([[1.13992884],\n",
       "        [2.55418371]]), array([[1.13992884],\n",
       "        [2.48797047]]), array([[1.13992884],\n",
       "        [2.54094106]]), array([[1.13992884],\n",
       "        [2.49856459]]), array([[1.13992884],\n",
       "        [2.53246576]]), array([[1.13992884],\n",
       "        [2.50534482]]), array([[1.13992884],\n",
       "        [2.52704158]]), array([[1.13992884],\n",
       "        [2.50968417]]), array([[1.13992884],\n",
       "        [2.5235701 ]]), array([[1.13992884],\n",
       "        [2.51246136]]), array([[1.13992884],\n",
       "        [2.52134835]]), array([[1.13992884],\n",
       "        [2.51423876]]), array([[1.13992884],\n",
       "        [2.51992643]]), array([[1.13992884],\n",
       "        [2.51537629]]), array([[1.13992884],\n",
       "        [2.5190164 ]]), array([[1.13992884],\n",
       "        [2.51610431]]), array([[1.13992884],\n",
       "        [2.51843398]]), array([[1.13992884],\n",
       "        [2.51657025]]), array([[1.13992884],\n",
       "        [2.51806124]]), array([[1.13992884],\n",
       "        [2.51686845]]), array([[1.13992884],\n",
       "        [2.51782268]]), array([[1.13992884],\n",
       "        [2.51705929]]), array([[1.13992884],\n",
       "        [2.51767   ]]), array([[1.13992884],\n",
       "        [2.51718143]]), array([[1.13992884],\n",
       "        [2.51757229]]), array([[1.13992884],\n",
       "        [2.5172596 ]]), array([[1.13992884],\n",
       "        [2.51750975]]), array([[1.13992884],\n",
       "        [2.51730963]]), array([[1.13992884],\n",
       "        [2.51746973]]), array([[1.13992884],\n",
       "        [2.51734165]]), array([[1.13992884],\n",
       "        [2.51744411]]), array([[1.13992884],\n",
       "        [2.51736214]]), array([[19391.80849756],\n",
       "        [91567.87174397]]), array([[19391.80849756],\n",
       "        [91567.87174397]]), array([[  7640.47144617],\n",
       "        [-73249.79526348]]), array([[ 3010.80702509],\n",
       "        [58604.42417317]]), array([[  1186.84052195],\n",
       "        [-46879.04578991]]), array([[  468.26599802],\n",
       "        [37507.7988451 ]]), array([[   185.17492975],\n",
       "        [-30001.74981899]]), array([[   73.64331449],\n",
       "        [24005.93953781]]), array([[    29.70873083],\n",
       "        [-19200.2205307 ]]), array([[1.23977538e+01],\n",
       "        [1.53647070e+04]]), array([[ 5.57689632e+00],\n",
       "        [-1.22872345e+04]]), array([[2.88798179e+00],\n",
       "        [9.83431789e+03]]), array([[ 1.82917978e+00],\n",
       "        [-7.86292267e+03]]), array([[1.41109045e+00],\n",
       "        [6.29486917e+03]]), array([[ 1.24680514e+00],\n",
       "        [-5.03136390e+03]]), array([[1.18226449e+00],\n",
       "        [4.02962212e+03]]), array([[ 1.15661587e+00],\n",
       "        [-3.21916651e+03]]), array([[1.14647376e+00],\n",
       "        [2.57986460e+03]]), array([[ 1.14249236e+00],\n",
       "        [-2.05936048e+03]]), array([[1.14094171e+00],\n",
       "        [1.65201981e+03]]), array([[ 1.14031307e+00],\n",
       "        [-1.31708451e+03]]), array([[   1.14008256],\n",
       "        [1058.1989213 ]]), array([[   1.13999874],\n",
       "        [-842.02782375]]), array([[  1.1399516 ],\n",
       "        [678.15356705]]), array([[   1.1399385 ],\n",
       "        [-537.99153197]]), array([[  1.13993326],\n",
       "        [434.92454096]]), array([[   1.13993195],\n",
       "        [-343.40831241]]), array([[  1.13992999],\n",
       "        [279.2579661 ]]), array([[   1.13992933],\n",
       "        [-218.87505369]]), array([[  1.13992933],\n",
       "        [179.63136076]]), array([[   1.139929  ],\n",
       "        [-139.17377123]]), array([[  1.139929 ],\n",
       "        [115.8703345]]), array([[  1.13992892],\n",
       "        [-88.16495018]]), array([[ 1.13992884],\n",
       "        [75.06327776]]), array([[  1.1399288],\n",
       "        [-55.5193048]]), array([[ 1.13992882],\n",
       "        [48.94676132]]), array([[  1.13992882],\n",
       "        [-34.62609165]]), array([[ 1.13992883],\n",
       "        [32.23219077]]), array([[  1.13992885],\n",
       "        [-21.2544352 ]]), array([[ 1.13992884],\n",
       "        [21.53486559]]), array([[  1.13992883],\n",
       "        [-12.69657503]]), array([[ 1.13992883],\n",
       "        [14.68857746]]), array([[ 1.13992883],\n",
       "        [-7.21954453]]), array([[ 1.13992884],\n",
       "        [10.30695306]]), array([[ 1.13992884],\n",
       "        [-3.71424501]]), array([[1.13992884],\n",
       "        [7.50271344]]), array([[ 1.13992884],\n",
       "        [-1.47085332]]), array([[1.13992884],\n",
       "        [5.70800009]]), array([[ 1.13992884],\n",
       "        [-0.03508264]]), array([[1.13992884],\n",
       "        [4.55938355]]), array([[1.13992884],\n",
       "        [0.8838106 ]]), array([[1.13992884],\n",
       "        [3.82426896]]), array([[1.13992884],\n",
       "        [1.47190227]]), array([[1.13992884],\n",
       "        [3.35379562]]), array([[1.13992884],\n",
       "        [1.84828094]]), array([[1.13992884],\n",
       "        [3.05269268]]), array([[1.13992884],\n",
       "        [2.08916329]]), array([[1.13992884],\n",
       "        [2.8599868 ]]), array([[1.13992884],\n",
       "        [2.24332799]]), array([[1.13992884],\n",
       "        [2.73665504]]), array([[1.13992884],\n",
       "        [2.3419934 ]]), array([[1.13992884],\n",
       "        [2.65772271]]), array([[1.13992884],\n",
       "        [2.40513926]]), array([[1.13992884],\n",
       "        [2.60720602]]), array([[1.13992884],\n",
       "        [2.44555262]]), array([[1.13992884],\n",
       "        [2.57487534]]), array([[1.13992884],\n",
       "        [2.47141716]]), array([[1.13992884],\n",
       "        [2.55418371]]), array([[1.13992884],\n",
       "        [2.48797047]]), array([[1.13992884],\n",
       "        [2.54094106]]), array([[1.13992884],\n",
       "        [2.49856459]]), array([[1.13992884],\n",
       "        [2.53246576]]), array([[1.13992884],\n",
       "        [2.50534482]]), array([[1.13992884],\n",
       "        [2.52704158]]), array([[1.13992884],\n",
       "        [2.50968417]]), array([[1.13992884],\n",
       "        [2.5235701 ]]), array([[1.13992884],\n",
       "        [2.51246136]]), array([[1.13992884],\n",
       "        [2.52134835]]), array([[1.13992884],\n",
       "        [2.51423876]]), array([[1.13992884],\n",
       "        [2.51992643]]), array([[1.13992884],\n",
       "        [2.51537629]]), array([[1.13992884],\n",
       "        [2.5190164 ]]), array([[1.13992884],\n",
       "        [2.51610431]]), array([[1.13992884],\n",
       "        [2.51843398]]), array([[1.13992884],\n",
       "        [2.51657025]]), array([[1.13992884],\n",
       "        [2.51806124]]), array([[1.13992884],\n",
       "        [2.51686845]]), array([[1.13992884],\n",
       "        [2.51782268]]), array([[1.13992884],\n",
       "        [2.51705929]]), array([[1.13992884],\n",
       "        [2.51767   ]]), array([[1.13992884],\n",
       "        [2.51718143]]), array([[1.13992884],\n",
       "        [2.51757229]]), array([[1.13992884],\n",
       "        [2.5172596 ]]), array([[1.13992884],\n",
       "        [2.51750975]]), array([[1.13992884],\n",
       "        [2.51730963]]), array([[1.13992884],\n",
       "        [2.51746973]]), array([[1.13992884],\n",
       "        [2.51734165]]), array([[1.13992884],\n",
       "        [2.51744411]]), array([[1.13992884],\n",
       "        [2.51736214]])]"
      ]
     },
     "execution_count": 431,
     "metadata": {},
     "output_type": "execute_result"
    }
   ],
   "source": [
    "recoder"
   ]
  },
  {
   "cell_type": "code",
   "execution_count": 432,
   "metadata": {
    "ExecuteTime": {
     "end_time": "2019-04-29T22:18:00.674469Z",
     "start_time": "2019-04-29T22:18:00.668436Z"
    }
   },
   "outputs": [
    {
     "data": {
      "text/plain": [
       "(98, 2)"
      ]
     },
     "execution_count": 432,
     "metadata": {},
     "output_type": "execute_result"
    }
   ],
   "source": [
    "W_recoder.shape"
   ]
  },
  {
   "cell_type": "code",
   "execution_count": 416,
   "metadata": {
    "ExecuteTime": {
     "end_time": "2019-04-29T22:15:44.508874Z",
     "start_time": "2019-04-29T22:15:44.499873Z"
    }
   },
   "outputs": [
    {
     "data": {
      "text/plain": [
       "array([[-2.15453428e+04, -1.01739857e+05],\n",
       "       [ 1.30570412e+04,  1.83130741e+05],\n",
       "       [ 5.14407158e+03, -1.46504688e+05],\n",
       "       [ 2.02662945e+03,  1.17203856e+05],\n",
       "       [ 7.98416138e+02, -9.37631607e+04],\n",
       "       [ 3.14545631e+02,  7.50106096e+04],\n",
       "       [ 1.23924017e+02, -6.00085437e+04],\n",
       "       [ 4.88162041e+01,  4.80068445e+04],\n",
       "       [ 1.92344189e+01, -3.84054750e+04],\n",
       "       [ 7.57873058e+00,  3.07243794e+04],\n",
       "       [ 2.98768282e+00, -2.45795026e+04],\n",
       "       [ 1.17644668e+00,  1.96636006e+04],\n",
       "       [ 4.64543700e-01, -1.57308798e+04],\n",
       "       [ 1.82539225e-01,  1.25847034e+04],\n",
       "       [ 7.17118382e-02, -1.00677622e+04],\n",
       "       [ 2.84984708e-02,  8.05420959e+03],\n",
       "       [ 1.12690032e-02, -6.44336790e+03],\n",
       "       [ 4.42378223e-03,  5.15469452e+03],\n",
       "       [ 1.72294676e-03, -4.12375587e+03],\n",
       "       [ 6.98491931e-04,  3.29900479e+03],\n",
       "       [ 2.56113708e-04, -2.63920381e+03],\n",
       "       [ 9.31322575e-05,  2.11136305e+03],\n",
       "       [ 5.23868948e-05, -1.68909043e+03],\n",
       "       [ 1.45519152e-05,  1.35127233e+03],\n",
       "       [ 5.82076609e-06, -1.08101786e+03],\n",
       "       [ 1.45519152e-06,  8.64814282e+02],\n",
       "       [ 2.18278728e-06, -6.91851421e+02],\n",
       "       [ 7.27595761e-07,  5.53481133e+02],\n",
       "       [ 0.00000000e+00, -4.42784905e+02],\n",
       "       [ 3.63797881e-07,  3.54227924e+02],\n",
       "       [ 0.00000000e+00, -2.83382340e+02],\n",
       "       [ 9.09494702e-08,  2.26705872e+02],\n",
       "       [ 9.09494702e-08, -1.81364698e+02],\n",
       "       [ 4.54747351e-08,  1.45091758e+02],\n",
       "       [-2.27373675e-08, -1.16073407e+02],\n",
       "       [ 0.00000000e+00,  9.28587255e+01],\n",
       "       [-1.13686838e-08, -7.42869805e+01],\n",
       "       [-1.70530257e-08,  5.94295844e+01],\n",
       "       [ 5.68434189e-09, -4.75436675e+01],\n",
       "       [ 8.52651283e-09,  3.80349340e+01],\n",
       "       [-1.42108547e-09, -3.04279472e+01],\n",
       "       [-1.42108547e-09,  2.43423578e+01],\n",
       "       [-7.10542736e-10, -1.94738862e+01],\n",
       "       [-1.06581410e-09,  1.55791090e+01],\n",
       "       [-7.10542736e-10, -1.24632872e+01],\n",
       "       [-5.32907052e-10,  9.97062974e+00],\n",
       "       [ 0.00000000e+00, -7.97650379e+00],\n",
       "       [ 0.00000000e+00,  6.38120303e+00],\n",
       "       [-4.44089210e-11, -5.10496243e+00],\n",
       "       [ 0.00000000e+00,  4.08396994e+00],\n",
       "       [-2.22044605e-11, -3.26717595e+00],\n",
       "       [-1.11022302e-11,  2.61374076e+00],\n",
       "       [-1.11022302e-11, -2.09099261e+00],\n",
       "       [ 0.00000000e+00,  1.67279409e+00],\n",
       "       [ 0.00000000e+00, -1.33823527e+00],\n",
       "       [ 0.00000000e+00,  1.07058822e+00],\n",
       "       [ 0.00000000e+00, -8.56470573e-01],\n",
       "       [ 2.77555756e-12,  6.85176458e-01],\n",
       "       [-1.38777878e-12, -5.48141167e-01],\n",
       "       [ 0.00000000e+00,  4.38512933e-01],\n",
       "       [ 0.00000000e+00, -3.50810347e-01],\n",
       "       [ 6.93889390e-13,  2.80648277e-01],\n",
       "       [ 2.08166817e-12, -2.24518622e-01],\n",
       "       [-1.38777878e-12,  1.79614897e-01],\n",
       "       [-6.93889390e-13, -1.43691918e-01],\n",
       "       [ 6.93889390e-13,  1.14953534e-01],\n",
       "       [-6.93889390e-13, -9.19628275e-02],\n",
       "       [ 1.38777878e-12,  7.35702620e-02],\n",
       "       [ 0.00000000e+00, -5.88562096e-02],\n",
       "       [-1.38777878e-12,  4.70849677e-02],\n",
       "       [ 1.38777878e-12, -3.76679742e-02],\n",
       "       [ 0.00000000e+00,  3.01343793e-02],\n",
       "       [-1.38777878e-12, -2.41075035e-02],\n",
       "       [ 2.08166817e-12,  1.92860028e-02],\n",
       "       [ 0.00000000e+00, -1.54288022e-02],\n",
       "       [ 0.00000000e+00,  1.23430418e-02],\n",
       "       [-6.93889390e-13, -9.87443342e-03],\n",
       "       [ 0.00000000e+00,  7.89954673e-03],\n",
       "       [ 0.00000000e+00, -6.31963739e-03],\n",
       "       [ 0.00000000e+00,  5.05570991e-03],\n",
       "       [ 0.00000000e+00, -4.04456793e-03],\n",
       "       [-6.93889390e-13,  3.23565434e-03],\n",
       "       [ 0.00000000e+00, -2.58852348e-03],\n",
       "       [-6.93889390e-13,  2.07081878e-03],\n",
       "       [ 6.93889390e-13, -1.65665502e-03],\n",
       "       [-6.93889390e-13,  1.32532402e-03],\n",
       "       [ 6.93889390e-13, -1.06025922e-03],\n",
       "       [-6.93889390e-13,  8.48207374e-04],\n",
       "       [ 0.00000000e+00, -6.78565900e-04],\n",
       "       [ 6.93889390e-13,  5.42852720e-04],\n",
       "       [ 0.00000000e+00, -4.34282176e-04],\n",
       "       [ 0.00000000e+00,  3.47425740e-04],\n",
       "       [-6.93889390e-13, -2.77940592e-04],\n",
       "       [ 0.00000000e+00,  2.22352474e-04],\n",
       "       [ 6.93889390e-13, -1.77881979e-04],\n",
       "       [-6.93889390e-13,  1.42305583e-04],\n",
       "       [ 0.00000000e+00, -1.13844466e-04],\n",
       "       [ 6.93889390e-13,  9.10755721e-05]])"
      ]
     },
     "execution_count": 416,
     "metadata": {},
     "output_type": "execute_result"
    }
   ],
   "source": [
    "dW_rec"
   ]
  },
  {
   "cell_type": "code",
   "execution_count": 449,
   "metadata": {
    "ExecuteTime": {
     "end_time": "2019-04-29T22:21:27.470908Z",
     "start_time": "2019-04-29T22:21:27.237905Z"
    }
   },
   "outputs": [
    {
     "name": "stdout",
     "output_type": "stream",
     "text": [
      "[<matplotlib.axes._subplots.AxesSubplot object at 0x000001CC71FBCAC8>\n",
      " <matplotlib.axes._subplots.AxesSubplot object at 0x000001CC762D5A90>]\n"
     ]
    },
    {
     "data": {
      "image/png": "[encoded data removed]",
      "text/plain": [
       "<Figure size 1152x648 with 2 Axes>"
      ]
     },
     "metadata": {
      "needs_background": "light"
     },
     "output_type": "display_data"
    }
   ],
   "source": [
    "fig, axs = plt.subplots(2,1, sharex=True, figsize=(16,9))\n",
    "print(axs)\n",
    "axs[0].plot(range(len(dW_rec[1:])), dW_rec[1:, 0])\n",
    "# plt.yscale('log')\n",
    "axs[1].plot(range(dW_rec.shape[0]), dW_rec[:, 1])\n",
    "# plt.yscale('log')\n",
    "plt.show()"
   ]
  },
  {
   "cell_type": "code",
   "execution_count": 450,
   "metadata": {
    "ExecuteTime": {
     "end_time": "2019-04-29T22:21:44.276943Z",
     "start_time": "2019-04-29T22:21:44.053904Z"
    }
   },
   "outputs": [
    {
     "data": {
      "image/png": "[encoded data removed]",
      "text/plain": [
       "<Figure size 432x288 with 1 Axes>"
      ]
     },
     "metadata": {
      "needs_background": "light"
     },
     "output_type": "display_data"
    }
   ],
   "source": [
    "plt.plot(range(len(loss_rec[1:])), loss_rec[1:])\n",
    "plt.yscale('log')"
   ]
  },
  {
   "cell_type": "code",
   "execution_count": 451,
   "metadata": {
    "ExecuteTime": {
     "end_time": "2019-04-29T22:21:58.546906Z",
     "start_time": "2019-04-29T22:21:58.403908Z"
    }
   },
   "outputs": [
    {
     "data": {
      "text/plain": [
       "[<matplotlib.lines.Line2D at 0x1cc7622ffd0>]"
      ]
     },
     "execution_count": 451,
     "metadata": {},
     "output_type": "execute_result"
    },
    {
     "data": {
      "image/png": "[encoded data removed]",
      "text/plain": [
       "<Figure size 432x288 with 1 Axes>"
      ]
     },
     "metadata": {
      "needs_background": "light"
     },
     "output_type": "display_data"
    }
   ],
   "source": [
    "plt.scatter(X_train[:, 0], y_train)\n",
    "plt.plot(X_train[:, 0], f(W), 'red', lw=5)\n",
    "plt.plot(X_train[:, 0], y_real, 'y', lw=2.5)"
   ]
  },
  {
   "cell_type": "code",
   "execution_count": 452,
   "metadata": {
    "ExecuteTime": {
     "end_time": "2019-04-29T22:22:09.572908Z",
     "start_time": "2019-04-29T22:22:09.445904Z"
    }
   },
   "outputs": [
    {
     "data": {
      "text/plain": [
       "[<matplotlib.lines.Line2D at 0x1cc760fe438>]"
      ]
     },
     "execution_count": 452,
     "metadata": {},
     "output_type": "execute_result"
    },
    {
     "data": {
      "image/png": "[encoded data removed]",
      "text/plain": [
       "<Figure size 432x288 with 1 Axes>"
      ]
     },
     "metadata": {
      "needs_background": "light"
     },
     "output_type": "display_data"
    }
   ],
   "source": [
    "plt.plot(range(len(W_recoder[1:,0])), W_recoder[1:,0], )"
   ]
  },
  {
   "cell_type": "code",
   "execution_count": 453,
   "metadata": {
    "ExecuteTime": {
     "end_time": "2019-04-29T22:22:11.601933Z",
     "start_time": "2019-04-29T22:22:11.469903Z"
    }
   },
   "outputs": [
    {
     "data": {
      "text/plain": [
       "[<matplotlib.lines.Line2D at 0x1cc76072be0>]"
      ]
     },
     "execution_count": 453,
     "metadata": {},
     "output_type": "execute_result"
    },
    {
     "data": {
      "image/png": "[encoded data removed]",
      "text/plain": [
       "<Figure size 432x288 with 1 Axes>"
      ]
     },
     "metadata": {
      "needs_background": "light"
     },
     "output_type": "display_data"
    }
   ],
   "source": [
    "plt.plot(range(len(W_recoder[1:,1])), W_recoder[1:,1], )"
   ]
  },
  {
   "cell_type": "code",
   "execution_count": 454,
   "metadata": {
    "ExecuteTime": {
     "end_time": "2019-04-29T22:22:14.969913Z",
     "start_time": "2019-04-29T22:22:14.964911Z"
    }
   },
   "outputs": [
    {
     "data": {
      "text/plain": [
       "((200, 2), (200, 1))"
      ]
     },
     "execution_count": 454,
     "metadata": {},
     "output_type": "execute_result"
    }
   ],
   "source": [
    "X_train.shape, y_real.shape"
   ]
  },
  {
   "cell_type": "code",
   "execution_count": 456,
   "metadata": {
    "ExecuteTime": {
     "end_time": "2019-04-29T22:22:48.068908Z",
     "start_time": "2019-04-29T22:22:47.925907Z"
    }
   },
   "outputs": [
    {
     "data": {
      "image/png": "[encoded data removed]",
      "text/plain": [
       "<Figure size 432x288 with 1 Axes>"
      ]
     },
     "metadata": {
      "needs_background": "light"
     },
     "output_type": "display_data"
    }
   ],
   "source": [
    "fig = plt.figure(2); ax = Axes3D(fig)\n",
    "a3D, b3D = np.meshgrid(np.linspace(-5,5,200), np.linspace(-5,5,200))\n"
   ]
  },
  {
   "cell_type": "code",
   "execution_count": 284,
   "metadata": {
    "ExecuteTime": {
     "end_time": "2019-04-29T21:46:32.173143Z",
     "start_time": "2019-04-29T21:46:32.155139Z"
    }
   },
   "outputs": [
    {
     "ename": "ValueError",
     "evalue": "shapes (200,2) and (200,) not aligned: 2 (dim 1) != 200 (dim 0)",
     "output_type": "error",
     "traceback": [
      "\u001b[1;31m---------------------------------------------------------------------------\u001b[0m",
      "\u001b[1;31mValueError\u001b[0m                                Traceback (most recent call last)",
      "\u001b[1;32m<ipython-input-284-acf9fb259067>\u001b[0m in \u001b[0;36m<module>\u001b[1;34m\u001b[0m\n\u001b[1;32m----> 1\u001b[1;33m \u001b[0my\u001b[0m \u001b[1;33m=\u001b[0m \u001b[0mf\u001b[0m\u001b[1;33m(\u001b[0m\u001b[0mx\u001b[0m\u001b[1;33m)\u001b[0m\u001b[1;33m\u001b[0m\u001b[1;33m\u001b[0m\u001b[0m\n\u001b[0m\u001b[0;32m      2\u001b[0m \u001b[0mplt\u001b[0m\u001b[1;33m.\u001b[0m\u001b[0mscatter\u001b[0m\u001b[1;33m(\u001b[0m\u001b[0mx\u001b[0m\u001b[1;33m,\u001b[0m \u001b[0my\u001b[0m\u001b[1;33m)\u001b[0m\u001b[1;33m\u001b[0m\u001b[1;33m\u001b[0m\u001b[0m\n",
      "\u001b[1;32m<ipython-input-239-59f375e7a376>\u001b[0m in \u001b[0;36m<lambda>\u001b[1;34m(W)\u001b[0m\n\u001b[1;32m----> 1\u001b[1;33m \u001b[0mf\u001b[0m \u001b[1;33m=\u001b[0m \u001b[1;32mlambda\u001b[0m \u001b[0mW\u001b[0m\u001b[1;33m:\u001b[0m \u001b[0mX_train\u001b[0m\u001b[1;33m.\u001b[0m\u001b[0mdot\u001b[0m\u001b[1;33m(\u001b[0m\u001b[0mW\u001b[0m\u001b[1;33m)\u001b[0m\u001b[1;33m\u001b[0m\u001b[1;33m\u001b[0m\u001b[0m\n\u001b[0m",
      "\u001b[1;31mValueError\u001b[0m: shapes (200,2) and (200,) not aligned: 2 (dim 1) != 200 (dim 0)"
     ]
    }
   ],
   "source": [
    "y = f(x)\n",
    "plt.scatter(x, y)"
   ]
  },
  {
   "cell_type": "code",
   "execution_count": null,
   "metadata": {},
   "outputs": [],
   "source": [
    "def gradient()"
   ]
  }
 ],
 "metadata": {
  "kernelspec": {
   "display_name": "Python 3",
   "language": "python",
   "name": "python3"
  },
  "language_info": {
   "codemirror_mode": {
    "name": "ipython",
    "version": 3
   },
   "file_extension": ".py",
   "mimetype": "text/x-python",
   "name": "python",
   "nbconvert_exporter": "python",
   "pygments_lexer": "ipython3",
   "version": "3.7.1"
  },
  "toc": {
   "base_numbering": 1,
   "nav_menu": {},
   "number_sections": true,
   "sideBar": true,
   "skip_h1_title": false,
   "title_cell": "Table of Contents",
   "title_sidebar": "Contents",
   "toc_cell": false,
   "toc_position": {},
   "toc_section_display": true,
   "toc_window_display": false
  },
  "varInspector": {
   "cols": {
    "lenName": 16,
    "lenType": 16,
    "lenVar": 40
   },
   "kernels_config": {
    "python": {
     "delete_cmd_postfix": "",
     "delete_cmd_prefix": "del ",
     "library": "var_list.py",
     "varRefreshCmd": "print(var_dic_list())"
    },
    "r": {
     "delete_cmd_postfix": ") ",
     "delete_cmd_prefix": "rm(",
     "library": "var_list.r",
     "varRefreshCmd": "cat(var_dic_list()) "
    }
   },
   "types_to_exclude": [
    "module",
    "function",
    "builtin_function_or_method",
    "instance",
    "_Feature"
   ],
   "window_display": false
  }
 },
 "nbformat": 4,
 "nbformat_minor": 2
}
